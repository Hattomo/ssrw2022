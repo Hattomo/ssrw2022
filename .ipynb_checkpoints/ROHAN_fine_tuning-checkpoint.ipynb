{
 "cells": [
  {
   "cell_type": "code",
   "execution_count": 13,
   "id": "fb190232",
   "metadata": {},
   "outputs": [],
   "source": [
    "import torch\n",
    "import torch.nn as nn\n",
    "import numpy as np\n",
    "from torch.utils.data import Dataset, DataLoader\n",
    "import pickle\n",
    "import csv\n",
    "import matplotlib.pyplot as plt\n",
    "from torch.nn.utils.rnn import pad_sequence\n",
    "from sklearn.metrics import accuracy_score\n",
    "from language_model import PhonemeLangModel\n",
    "from phoneme_dataset import PhonemeDataset, collate_fn, dataset_spliter, MaskedPhonemeDataset, PAD_NUM\n",
    "\n",
    "from torchvision import transforms\n",
    "from trainer_phoneme import Trainer, MaskedTrainer\n",
    "import json\n",
    "from tqdm import tqdm_notebook as tqdm\n",
    "from sklearn.metrics import accuracy_score"
   ]
  },
  {
   "cell_type": "code",
   "execution_count": 2,
   "id": "e623fb7d",
   "metadata": {},
   "outputs": [],
   "source": [
    "BATCH_SIZE = 128\n",
    "EPOCHS = 20\n",
    "dict_path = 'data/label.pkl'\n",
    "labels_path = 'data/phoneme.csv'"
   ]
  },
  {
   "cell_type": "code",
   "execution_count": 3,
   "id": "999126d3",
   "metadata": {},
   "outputs": [],
   "source": [
    "\"\"\"\n",
    "with open(dict_path, 'rb') as f:\n",
    "    phone_dict = pickle.load(f)\n",
    "\"\"\"\n",
    "with open(labels_path, 'r') as f:\n",
    "    csv_reader = csv.reader(f)\n",
    "    datas_ROHAN = list(csv_reader)"
   ]
  },
  {
   "cell_type": "code",
   "execution_count": 4,
   "id": "6ac2f832",
   "metadata": {},
   "outputs": [],
   "source": [
    "additional_file = './data/phoneme_data.txt'\n",
    "with open(additional_file, 'r') as f:\n",
    "    sentenses = f.readlines()"
   ]
  },
  {
   "cell_type": "code",
   "execution_count": 6,
   "id": "07b9df5c",
   "metadata": {},
   "outputs": [
    {
     "name": "stdout",
     "output_type": "stream",
     "text": [
      "['sil', 'n', 'a', 'g', 'a', 'sh', 'i', 'g', 'i', 'r', 'i', 'g', 'a', 'k', 'a', 'N', 'z', 'e', 'N', 'n', 'i', 'h', 'a', 'i', 'r', 'e', 'b', 'a', 'pau', 'd', 'e', 'b', 'a', 'f', 'u', 'n', 'o', 'k', 'o', 'o', 'k', 'a', 'g', 'a', 'f', 'u', 'y', 'o', 's', 'a', 'r', 'e', 'r', 'u', 'sil']\n"
     ]
    }
   ],
   "source": [
    "additional_file = './data/ROHAN_labels.txt'\n",
    "with open(additional_file, 'r') as f:\n",
    "    sentenses = f.readlines()\n",
    "datas_ROHAN = [s.replace('\\n', '').split()[1:] for s in sentenses]\n",
    "print(datas[0])"
   ]
  },
  {
   "cell_type": "code",
   "execution_count": 4,
   "id": "a0c60801",
   "metadata": {},
   "outputs": [],
   "source": [
    "dict_path = 'data/phoneme_dict.json'\n",
    "with open(dict_path, 'r') as f:\n",
    "    phone_dict = json.load(f)"
   ]
  },
  {
   "cell_type": "code",
   "execution_count": 7,
   "id": "29fc0b45",
   "metadata": {},
   "outputs": [],
   "source": [
    "datas = [s.replace('\\n', '').split() for s in sentenses]"
   ]
  },
  {
   "cell_type": "code",
   "execution_count": 7,
   "id": "2479ede3",
   "metadata": {},
   "outputs": [
    {
     "name": "stdout",
     "output_type": "stream",
     "text": [
      "train: 2760 valid: 920 test: 920\n"
     ]
    }
   ],
   "source": [
    "datas_train, datas_valid, datas_test = dataset_spliter(datas_ROHAN)\n",
    "dataset_train = MaskedPhonemeDataset(phone_dict, datas_train)\n",
    "dataset_valid = MaskedPhonemeDataset(phone_dict, datas_valid)\n",
    "dataset_test  = MaskedPhonemeDataset(phone_dict, datas_test)"
   ]
  },
  {
   "cell_type": "code",
   "execution_count": 8,
   "id": "21ae7c88",
   "metadata": {},
   "outputs": [],
   "source": [
    "dataloader_train = DataLoader(dataset_train,\n",
    "                              shuffle=True,\n",
    "                              batch_size=BATCH_SIZE,\n",
    "                              collate_fn=collate_fn,\n",
    "                              drop_last=True)\n",
    "dataloader_valid = DataLoader(dataset_valid,\n",
    "                              batch_size=BATCH_SIZE,\n",
    "                              collate_fn=collate_fn,\n",
    "                              drop_last=True)\n",
    "dataloader_test  = DataLoader(dataset_test,\n",
    "                              batch_size=BATCH_SIZE,\n",
    "                              collate_fn=collate_fn,\n",
    "                              drop_last=True)"
   ]
  },
  {
   "cell_type": "code",
   "execution_count": 9,
   "id": "f4ebd31c",
   "metadata": {},
   "outputs": [],
   "source": [
    "model = PhonemeLangModel().to('cuda:0')"
   ]
  },
  {
   "cell_type": "code",
   "execution_count": 10,
   "id": "8aa0d619",
   "metadata": {},
   "outputs": [
    {
     "data": {
      "application/vnd.jupyter.widget-view+json": {
       "model_id": "f73077a1acda4267928d682033bd7197",
       "version_major": 2,
       "version_minor": 0
      },
      "text/plain": [
       "  0%|          | 0/20 [00:00<?, ?it/s]"
      ]
     },
     "metadata": {},
     "output_type": "display_data"
    },
    {
     "name": "stdout",
     "output_type": "stream",
     "text": [
      "train: 0\n"
     ]
    },
    {
     "data": {
      "application/vnd.jupyter.widget-view+json": {
       "model_id": "8ea75357b9414101ba187480eef94fa5",
       "version_major": 2,
       "version_minor": 0
      },
      "text/plain": [
       "  0%|          | 0/21 [00:00<?, ?it/s]"
      ]
     },
     "metadata": {},
     "output_type": "display_data"
    },
    {
     "name": "stdout",
     "output_type": "stream",
     "text": [
      "validation: 0\n"
     ]
    },
    {
     "data": {
      "application/vnd.jupyter.widget-view+json": {
       "model_id": "25f71787d6cd42d4ae72302af6a584cc",
       "version_major": 2,
       "version_minor": 0
      },
      "text/plain": [
       "  0%|          | 0/7 [00:00<?, ?it/s]"
      ]
     },
     "metadata": {},
     "output_type": "display_data"
    },
    {
     "name": "stdout",
     "output_type": "stream",
     "text": [
      "train: Epoch [1/20], Loss: 3.4270 Acc: 0.4041\n",
      "valid: Epoch [1/20], Loss: 2.5488 Acc: 0.4119\n",
      "train: 1\n"
     ]
    },
    {
     "data": {
      "application/vnd.jupyter.widget-view+json": {
       "model_id": "42b9372282ce4c88924ee71e80d77e5a",
       "version_major": 2,
       "version_minor": 0
      },
      "text/plain": [
       "  0%|          | 0/21 [00:00<?, ?it/s]"
      ]
     },
     "metadata": {},
     "output_type": "display_data"
    },
    {
     "name": "stdout",
     "output_type": "stream",
     "text": [
      "validation: 1\n"
     ]
    },
    {
     "data": {
      "application/vnd.jupyter.widget-view+json": {
       "model_id": "bc76197c1f9449baa1f8aad2c81085a0",
       "version_major": 2,
       "version_minor": 0
      },
      "text/plain": [
       "  0%|          | 0/7 [00:00<?, ?it/s]"
      ]
     },
     "metadata": {},
     "output_type": "display_data"
    },
    {
     "name": "stdout",
     "output_type": "stream",
     "text": [
      "train: Epoch [2/20], Loss: 2.2116 Acc: 0.4497\n",
      "valid: Epoch [2/20], Loss: 1.9775 Acc: 0.5241\n",
      "train: 2\n"
     ]
    },
    {
     "data": {
      "application/vnd.jupyter.widget-view+json": {
       "model_id": "dbfc3170de694339b8cf70b601703057",
       "version_major": 2,
       "version_minor": 0
      },
      "text/plain": [
       "  0%|          | 0/21 [00:00<?, ?it/s]"
      ]
     },
     "metadata": {},
     "output_type": "display_data"
    },
    {
     "name": "stdout",
     "output_type": "stream",
     "text": [
      "validation: 2\n"
     ]
    },
    {
     "data": {
      "application/vnd.jupyter.widget-view+json": {
       "model_id": "9746fa563eb64c199c5573f824de6251",
       "version_major": 2,
       "version_minor": 0
      },
      "text/plain": [
       "  0%|          | 0/7 [00:00<?, ?it/s]"
      ]
     },
     "metadata": {},
     "output_type": "display_data"
    },
    {
     "name": "stdout",
     "output_type": "stream",
     "text": [
      "train: Epoch [3/20], Loss: 1.8390 Acc: 0.5546\n",
      "valid: Epoch [3/20], Loss: 1.6920 Acc: 0.5988\n",
      "train: 3\n"
     ]
    },
    {
     "data": {
      "application/vnd.jupyter.widget-view+json": {
       "model_id": "d4cc6ccf573b4c7d81e4f335efbdd769",
       "version_major": 2,
       "version_minor": 0
      },
      "text/plain": [
       "  0%|          | 0/21 [00:00<?, ?it/s]"
      ]
     },
     "metadata": {},
     "output_type": "display_data"
    },
    {
     "name": "stdout",
     "output_type": "stream",
     "text": [
      "validation: 3\n"
     ]
    },
    {
     "data": {
      "application/vnd.jupyter.widget-view+json": {
       "model_id": "7e03c9b460494c1fa23f4ee2c4ce6d96",
       "version_major": 2,
       "version_minor": 0
      },
      "text/plain": [
       "  0%|          | 0/7 [00:00<?, ?it/s]"
      ]
     },
     "metadata": {},
     "output_type": "display_data"
    },
    {
     "name": "stdout",
     "output_type": "stream",
     "text": [
      "train: Epoch [4/20], Loss: 1.5651 Acc: 0.6296\n",
      "valid: Epoch [4/20], Loss: 1.4316 Acc: 0.6571\n",
      "train: 4\n"
     ]
    },
    {
     "data": {
      "application/vnd.jupyter.widget-view+json": {
       "model_id": "575be37d544d466c9a71b285e518585e",
       "version_major": 2,
       "version_minor": 0
      },
      "text/plain": [
       "  0%|          | 0/21 [00:00<?, ?it/s]"
      ]
     },
     "metadata": {},
     "output_type": "display_data"
    },
    {
     "name": "stdout",
     "output_type": "stream",
     "text": [
      "validation: 4\n"
     ]
    },
    {
     "data": {
      "application/vnd.jupyter.widget-view+json": {
       "model_id": "e878ac1fb03a4d71ad40664783fd6c2c",
       "version_major": 2,
       "version_minor": 0
      },
      "text/plain": [
       "  0%|          | 0/7 [00:00<?, ?it/s]"
      ]
     },
     "metadata": {},
     "output_type": "display_data"
    },
    {
     "name": "stdout",
     "output_type": "stream",
     "text": [
      "train: Epoch [5/20], Loss: 1.3203 Acc: 0.6870\n",
      "valid: Epoch [5/20], Loss: 1.2084 Acc: 0.7126\n",
      "train: 5\n"
     ]
    },
    {
     "data": {
      "application/vnd.jupyter.widget-view+json": {
       "model_id": "cda48ac2321042e89b3d0103604f610b",
       "version_major": 2,
       "version_minor": 0
      },
      "text/plain": [
       "  0%|          | 0/21 [00:00<?, ?it/s]"
      ]
     },
     "metadata": {},
     "output_type": "display_data"
    },
    {
     "name": "stdout",
     "output_type": "stream",
     "text": [
      "validation: 5\n"
     ]
    },
    {
     "data": {
      "application/vnd.jupyter.widget-view+json": {
       "model_id": "4eb2fa88277f4c36a0c4d2448f7bf7c9",
       "version_major": 2,
       "version_minor": 0
      },
      "text/plain": [
       "  0%|          | 0/7 [00:00<?, ?it/s]"
      ]
     },
     "metadata": {},
     "output_type": "display_data"
    },
    {
     "name": "stdout",
     "output_type": "stream",
     "text": [
      "train: Epoch [6/20], Loss: 1.1264 Acc: 0.7292\n",
      "valid: Epoch [6/20], Loss: 1.0449 Acc: 0.7396\n",
      "train: 6\n"
     ]
    },
    {
     "data": {
      "application/vnd.jupyter.widget-view+json": {
       "model_id": "f7af3c55531d454fa4e765ebde4a758a",
       "version_major": 2,
       "version_minor": 0
      },
      "text/plain": [
       "  0%|          | 0/21 [00:00<?, ?it/s]"
      ]
     },
     "metadata": {},
     "output_type": "display_data"
    },
    {
     "name": "stdout",
     "output_type": "stream",
     "text": [
      "validation: 6\n"
     ]
    },
    {
     "data": {
      "application/vnd.jupyter.widget-view+json": {
       "model_id": "2087616cdba446fb8a2b6249b1f87be9",
       "version_major": 2,
       "version_minor": 0
      },
      "text/plain": [
       "  0%|          | 0/7 [00:00<?, ?it/s]"
      ]
     },
     "metadata": {},
     "output_type": "display_data"
    },
    {
     "name": "stdout",
     "output_type": "stream",
     "text": [
      "train: Epoch [7/20], Loss: 0.9798 Acc: 0.7552\n",
      "valid: Epoch [7/20], Loss: 0.9369 Acc: 0.7656\n",
      "train: 7\n"
     ]
    },
    {
     "data": {
      "application/vnd.jupyter.widget-view+json": {
       "model_id": "c21220666bda4c5d9ec77d2475e50588",
       "version_major": 2,
       "version_minor": 0
      },
      "text/plain": [
       "  0%|          | 0/21 [00:00<?, ?it/s]"
      ]
     },
     "metadata": {},
     "output_type": "display_data"
    },
    {
     "name": "stdout",
     "output_type": "stream",
     "text": [
      "validation: 7\n"
     ]
    },
    {
     "data": {
      "application/vnd.jupyter.widget-view+json": {
       "model_id": "dac7cb424a4c4fbc9d3a9a1aeb8a16d0",
       "version_major": 2,
       "version_minor": 0
      },
      "text/plain": [
       "  0%|          | 0/7 [00:00<?, ?it/s]"
      ]
     },
     "metadata": {},
     "output_type": "display_data"
    },
    {
     "name": "stdout",
     "output_type": "stream",
     "text": [
      "train: Epoch [8/20], Loss: 0.8945 Acc: 0.7726\n",
      "valid: Epoch [8/20], Loss: 0.8609 Acc: 0.7767\n",
      "train: 8\n"
     ]
    },
    {
     "data": {
      "application/vnd.jupyter.widget-view+json": {
       "model_id": "66e2fc041c6a4eb5a66aca9c41629896",
       "version_major": 2,
       "version_minor": 0
      },
      "text/plain": [
       "  0%|          | 0/21 [00:00<?, ?it/s]"
      ]
     },
     "metadata": {},
     "output_type": "display_data"
    },
    {
     "name": "stdout",
     "output_type": "stream",
     "text": [
      "validation: 8\n"
     ]
    },
    {
     "data": {
      "application/vnd.jupyter.widget-view+json": {
       "model_id": "7859e9d191514474934a8052ff7f81e8",
       "version_major": 2,
       "version_minor": 0
      },
      "text/plain": [
       "  0%|          | 0/7 [00:00<?, ?it/s]"
      ]
     },
     "metadata": {},
     "output_type": "display_data"
    },
    {
     "name": "stdout",
     "output_type": "stream",
     "text": [
      "train: Epoch [9/20], Loss: 0.8396 Acc: 0.7789\n",
      "valid: Epoch [9/20], Loss: 0.8138 Acc: 0.7820\n",
      "train: 9\n"
     ]
    },
    {
     "data": {
      "application/vnd.jupyter.widget-view+json": {
       "model_id": "81536477c1a44e759c33129c55cc5558",
       "version_major": 2,
       "version_minor": 0
      },
      "text/plain": [
       "  0%|          | 0/21 [00:00<?, ?it/s]"
      ]
     },
     "metadata": {},
     "output_type": "display_data"
    },
    {
     "name": "stdout",
     "output_type": "stream",
     "text": [
      "validation: 9\n"
     ]
    },
    {
     "data": {
      "application/vnd.jupyter.widget-view+json": {
       "model_id": "4c42886a78084e638f59970d6dab254c",
       "version_major": 2,
       "version_minor": 0
      },
      "text/plain": [
       "  0%|          | 0/7 [00:00<?, ?it/s]"
      ]
     },
     "metadata": {},
     "output_type": "display_data"
    },
    {
     "name": "stdout",
     "output_type": "stream",
     "text": [
      "train: Epoch [10/20], Loss: 0.7956 Acc: 0.7844\n",
      "valid: Epoch [10/20], Loss: 0.7766 Acc: 0.7851\n",
      "train: 10\n"
     ]
    },
    {
     "data": {
      "application/vnd.jupyter.widget-view+json": {
       "model_id": "4fcca611f55348629cc94c751f13f167",
       "version_major": 2,
       "version_minor": 0
      },
      "text/plain": [
       "  0%|          | 0/21 [00:00<?, ?it/s]"
      ]
     },
     "metadata": {},
     "output_type": "display_data"
    },
    {
     "ename": "KeyboardInterrupt",
     "evalue": "",
     "output_type": "error",
     "traceback": [
      "\u001b[1;31m---------------------------------------------------------------------------\u001b[0m",
      "\u001b[1;31mKeyboardInterrupt\u001b[0m                         Traceback (most recent call last)",
      "Cell \u001b[1;32mIn [10], line 4\u001b[0m\n\u001b[0;32m      2\u001b[0m optimizer \u001b[38;5;241m=\u001b[39m torch\u001b[38;5;241m.\u001b[39moptim\u001b[38;5;241m.\u001b[39mAdam(model\u001b[38;5;241m.\u001b[39mparameters(), lr\u001b[38;5;241m=\u001b[39m\u001b[38;5;241m0.001\u001b[39m)\n\u001b[0;32m      3\u001b[0m trainer \u001b[38;5;241m=\u001b[39m MaskedTrainer(model, dataloader_train, dataloader_valid, criterion, optimizer)\n\u001b[1;32m----> 4\u001b[0m trainer\u001b[38;5;241m.\u001b[39mtrain(EPOCHS, BATCH_SIZE)\n",
      "File \u001b[1;32mD:\\Aoyama\\hattori\\ssrw2022\\trainer_phoneme.py:220\u001b[0m, in \u001b[0;36mMaskedTrainer.train\u001b[1;34m(self, epochs, batch_size, hidden_dim, mask_ratio)\u001b[0m\n\u001b[0;32m    218\u001b[0m     train_acc \u001b[38;5;241m+\u001b[39m\u001b[38;5;241m=\u001b[39m acc\n\u001b[0;32m    219\u001b[0m     \u001b[38;5;66;03m# print(f'loss: {loss}    acc: {acc}')\u001b[39;00m\n\u001b[1;32m--> 220\u001b[0m     \u001b[43mloss\u001b[49m\u001b[38;5;241;43m.\u001b[39;49m\u001b[43mbackward\u001b[49m\u001b[43m(\u001b[49m\u001b[43m)\u001b[49m\n\u001b[0;32m    221\u001b[0m     \u001b[38;5;28mself\u001b[39m\u001b[38;5;241m.\u001b[39moptimizer\u001b[38;5;241m.\u001b[39mstep()\n\u001b[0;32m    223\u001b[0m \u001b[38;5;66;03m# 検証\u001b[39;00m\n",
      "File \u001b[1;32m~\\anaconda3\\envs\\ssrw\\lib\\site-packages\\torch\\_tensor.py:396\u001b[0m, in \u001b[0;36mTensor.backward\u001b[1;34m(self, gradient, retain_graph, create_graph, inputs)\u001b[0m\n\u001b[0;32m    387\u001b[0m \u001b[38;5;28;01mif\u001b[39;00m has_torch_function_unary(\u001b[38;5;28mself\u001b[39m):\n\u001b[0;32m    388\u001b[0m     \u001b[38;5;28;01mreturn\u001b[39;00m handle_torch_function(\n\u001b[0;32m    389\u001b[0m         Tensor\u001b[38;5;241m.\u001b[39mbackward,\n\u001b[0;32m    390\u001b[0m         (\u001b[38;5;28mself\u001b[39m,),\n\u001b[1;32m   (...)\u001b[0m\n\u001b[0;32m    394\u001b[0m         create_graph\u001b[38;5;241m=\u001b[39mcreate_graph,\n\u001b[0;32m    395\u001b[0m         inputs\u001b[38;5;241m=\u001b[39minputs)\n\u001b[1;32m--> 396\u001b[0m \u001b[43mtorch\u001b[49m\u001b[38;5;241;43m.\u001b[39;49m\u001b[43mautograd\u001b[49m\u001b[38;5;241;43m.\u001b[39;49m\u001b[43mbackward\u001b[49m\u001b[43m(\u001b[49m\u001b[38;5;28;43mself\u001b[39;49m\u001b[43m,\u001b[49m\u001b[43m \u001b[49m\u001b[43mgradient\u001b[49m\u001b[43m,\u001b[49m\u001b[43m \u001b[49m\u001b[43mretain_graph\u001b[49m\u001b[43m,\u001b[49m\u001b[43m \u001b[49m\u001b[43mcreate_graph\u001b[49m\u001b[43m,\u001b[49m\u001b[43m \u001b[49m\u001b[43minputs\u001b[49m\u001b[38;5;241;43m=\u001b[39;49m\u001b[43minputs\u001b[49m\u001b[43m)\u001b[49m\n",
      "File \u001b[1;32m~\\anaconda3\\envs\\ssrw\\lib\\site-packages\\torch\\autograd\\__init__.py:173\u001b[0m, in \u001b[0;36mbackward\u001b[1;34m(tensors, grad_tensors, retain_graph, create_graph, grad_variables, inputs)\u001b[0m\n\u001b[0;32m    168\u001b[0m     retain_graph \u001b[38;5;241m=\u001b[39m create_graph\n\u001b[0;32m    170\u001b[0m \u001b[38;5;66;03m# The reason we repeat same the comment below is that\u001b[39;00m\n\u001b[0;32m    171\u001b[0m \u001b[38;5;66;03m# some Python versions print out the first line of a multi-line function\u001b[39;00m\n\u001b[0;32m    172\u001b[0m \u001b[38;5;66;03m# calls in the traceback and some print out the last line\u001b[39;00m\n\u001b[1;32m--> 173\u001b[0m \u001b[43mVariable\u001b[49m\u001b[38;5;241;43m.\u001b[39;49m\u001b[43m_execution_engine\u001b[49m\u001b[38;5;241;43m.\u001b[39;49m\u001b[43mrun_backward\u001b[49m\u001b[43m(\u001b[49m\u001b[43m  \u001b[49m\u001b[38;5;66;43;03m# Calls into the C++ engine to run the backward pass\u001b[39;49;00m\n\u001b[0;32m    174\u001b[0m \u001b[43m    \u001b[49m\u001b[43mtensors\u001b[49m\u001b[43m,\u001b[49m\u001b[43m \u001b[49m\u001b[43mgrad_tensors_\u001b[49m\u001b[43m,\u001b[49m\u001b[43m \u001b[49m\u001b[43mretain_graph\u001b[49m\u001b[43m,\u001b[49m\u001b[43m \u001b[49m\u001b[43mcreate_graph\u001b[49m\u001b[43m,\u001b[49m\u001b[43m \u001b[49m\u001b[43minputs\u001b[49m\u001b[43m,\u001b[49m\n\u001b[0;32m    175\u001b[0m \u001b[43m    \u001b[49m\u001b[43mallow_unreachable\u001b[49m\u001b[38;5;241;43m=\u001b[39;49m\u001b[38;5;28;43;01mTrue\u001b[39;49;00m\u001b[43m,\u001b[49m\u001b[43m \u001b[49m\u001b[43maccumulate_grad\u001b[49m\u001b[38;5;241;43m=\u001b[39;49m\u001b[38;5;28;43;01mTrue\u001b[39;49;00m\u001b[43m)\u001b[49m\n",
      "\u001b[1;31mKeyboardInterrupt\u001b[0m: "
     ]
    }
   ],
   "source": [
    "criterion = nn.CrossEntropyLoss()\n",
    "optimizer = torch.optim.Adam(model.parameters(), lr=0.001)\n",
    "trainer = MaskedTrainer(model, dataloader_train, dataloader_valid, criterion, optimizer)\n",
    "trainer.train(EPOCHS, BATCH_SIZE)"
   ]
  },
  {
   "cell_type": "code",
   "execution_count": 11,
   "id": "82767d97",
   "metadata": {},
   "outputs": [],
   "source": [
    "save_path = './lstm_lang_model_ROHAN.pth'\n",
    "torch.save(model.to('cpu').state_dict(), save_path)"
   ]
  },
  {
   "cell_type": "code",
   "execution_count": 12,
   "id": "54f52518",
   "metadata": {},
   "outputs": [],
   "source": [
    "import pandas as pd\n",
    "loss_dict = {'train_loss': trainer.train_loss_list,\n",
    "             'valid_loss': trainer.valid_loss_list,\n",
    "             'train_acc': trainer.train_acc_list,\n",
    "             'valid_acc': trainer.valid_acc_list}\n",
    "df = pd.DataFrame(loss_dict)\n",
    "df.to_csv('./lstm_lang_model_losses.csv')"
   ]
  },
  {
   "cell_type": "code",
   "execution_count": 13,
   "id": "b2fcb308",
   "metadata": {},
   "outputs": [],
   "source": [
    "df = pd.read_csv('./lstm_lang_model_losses.csv')\n",
    "%matplotlib inline\n",
    "import matplotlib.pyplot as plt\n",
    "import numpy as np\n",
    "fig, ax1 = plt.subplots()\n",
    "x = np.array([i for i in range(EPOCHS)])\n",
    "ax1.set_xlabel('epochs')\n",
    "ax1.plot(x, df['train_loss'], label='train_loss')\n",
    "ax1.plot(x, df['valid_loss'], label='valid_loss')\n",
    "ax1.legend()\n",
    "\n",
    "ax2 = ax1.twinx()\n",
    "ax2.plot(x, df['train_acc'], label='train_acc')\n",
    "ax2.plot(x, df['valid_acc'], label='valid_acc')\n",
    "ax2.legend()\n",
    "\n",
    "ax1.set_ylabel('loss')\n",
    "ax2.set_ylabel('acc')\n",
    "plt.savefig('./graph.png')\n",
    "plt.show()"
   ]
  },
  {
   "cell_type": "code",
   "execution_count": 11,
   "id": "b6c4cbbc",
   "metadata": {},
   "outputs": [],
   "source": [
    "save_path = './checkpoints_aoyama/lstm_lang_model.pth'\n",
    "model = PhonemeLangModel()\n",
    "model.load_state_dict(torch.load(save_path))\n",
    "model = model.to('cuda:0')"
   ]
  },
  {
   "cell_type": "code",
   "execution_count": 18,
   "id": "deb809c9",
   "metadata": {
    "scrolled": false
   },
   "outputs": [],
   "source": [
    "def generate_sentence(model, batch):\n",
    "    model.eval()\n",
    "    datas, labels = batch\n",
    "    datas = datas.to(model.device)\n",
    "    labels = labels.to(model.device)\n",
    "    softmax = nn.Softmax(dim=1)\n",
    "    with torch.no_grad():\n",
    "        states = (torch.zeros(1, BATCH_SIZE, model.hidden_dim_encoder).to(model.device),\n",
    "                  torch.zeros(1, BATCH_SIZE, model.hidden_dim_encoder).to(model.device))\n",
    "        outputs, _ = model(datas, states)\n",
    "        for output, label in zip(outputs, labels):\n",
    "            output = torch.argmax(output, dim=1).tolist()\n",
    "            acc = accuracy_score(label.tolist(), output)\n",
    "            # print(acc)\n",
    "            pad_index = output.index(PAD_NUM) if PAD_NUM in output else False\n",
    "            if pad_index:\n",
    "                output = torch.Tensor(output[:pad_index]).to(device=model.device, dtype=torch.long)\n",
    "            # print(f'output: {output}')\n",
    "            # print(f'label : {label}')"
   ]
  },
  {
   "cell_type": "code",
   "execution_count": 20,
   "id": "e8a073e6",
   "metadata": {
    "scrolled": true
   },
   "outputs": [
    {
     "name": "stderr",
     "output_type": "stream",
     "text": [
      "C:\\Users\\aoyama\\AppData\\Local\\Temp\\ipykernel_21556\\22515904.py:1: TqdmDeprecationWarning: This function will be removed in tqdm==5.0.0\n",
      "Please use `tqdm.notebook.tqdm` instead of `tqdm.tqdm_notebook`\n",
      "  for batch in tqdm(dataloader_test, total=len(dataloader_train)):\n"
     ]
    },
    {
     "data": {
      "application/vnd.jupyter.widget-view+json": {
       "model_id": "442380acaca24cfba35f72c740d620b6",
       "version_major": 2,
       "version_minor": 0
      },
      "text/plain": [
       "  0%|          | 0/21 [00:00<?, ?it/s]"
      ]
     },
     "metadata": {},
     "output_type": "display_data"
    },
    {
     "name": "stdout",
     "output_type": "stream",
     "text": [
      "0.8414634146341463\n",
      "0.8048780487804879\n",
      "0.8292682926829268\n",
      "0.6707317073170732\n",
      "0.7317073170731707\n",
      "0.8414634146341463\n",
      "0.7804878048780488\n",
      "0.8048780487804879\n",
      "0.7560975609756098\n",
      "0.7926829268292683\n",
      "0.6829268292682927\n",
      "0.8658536585365854\n",
      "0.6707317073170732\n",
      "0.7926829268292683\n",
      "0.7560975609756098\n",
      "0.7926829268292683\n",
      "0.7560975609756098\n",
      "0.7073170731707317\n",
      "0.6707317073170732\n",
      "0.7682926829268293\n",
      "0.7317073170731707\n",
      "0.8048780487804879\n",
      "0.7804878048780488\n",
      "0.7317073170731707\n",
      "0.7926829268292683\n",
      "0.7804878048780488\n",
      "0.8170731707317073\n",
      "0.7804878048780488\n",
      "0.8048780487804879\n",
      "0.8414634146341463\n",
      "0.8292682926829268\n",
      "0.8658536585365854\n",
      "0.8048780487804879\n",
      "0.8658536585365854\n",
      "0.8292682926829268\n",
      "0.8536585365853658\n",
      "0.8048780487804879\n",
      "0.8048780487804879\n",
      "0.7926829268292683\n",
      "0.8048780487804879\n",
      "0.6951219512195121\n",
      "0.7195121951219512\n",
      "0.8292682926829268\n",
      "0.7682926829268293\n",
      "0.8658536585365854\n",
      "0.8292682926829268\n",
      "0.7560975609756098\n",
      "0.8658536585365854\n",
      "0.8170731707317073\n",
      "0.8780487804878049\n",
      "0.8048780487804879\n",
      "0.8414634146341463\n",
      "0.7682926829268293\n",
      "0.7926829268292683\n",
      "0.7926829268292683\n",
      "0.7439024390243902\n",
      "0.7682926829268293\n",
      "0.7073170731707317\n",
      "0.7926829268292683\n",
      "0.7682926829268293\n",
      "0.7926829268292683\n",
      "0.8292682926829268\n",
      "0.8658536585365854\n",
      "0.8170731707317073\n",
      "0.7682926829268293\n",
      "0.7073170731707317\n",
      "0.6585365853658537\n",
      "0.6707317073170732\n",
      "0.6951219512195121\n",
      "0.7682926829268293\n",
      "0.7439024390243902\n",
      "0.7439024390243902\n",
      "0.8292682926829268\n",
      "0.7317073170731707\n",
      "0.7804878048780488\n",
      "0.8414634146341463\n",
      "0.7926829268292683\n",
      "0.8658536585365854\n",
      "0.7804878048780488\n",
      "0.8658536585365854\n",
      "0.8536585365853658\n",
      "0.7073170731707317\n",
      "0.6829268292682927\n",
      "0.7926829268292683\n",
      "0.7682926829268293\n",
      "0.7560975609756098\n",
      "0.7439024390243902\n",
      "0.7439024390243902\n",
      "0.7560975609756098\n",
      "0.7926829268292683\n",
      "0.9146341463414634\n",
      "0.7926829268292683\n",
      "0.7682926829268293\n",
      "0.7439024390243902\n",
      "0.8048780487804879\n",
      "0.8048780487804879\n",
      "0.7682926829268293\n",
      "0.8292682926829268\n",
      "0.7926829268292683\n",
      "0.8780487804878049\n",
      "0.7317073170731707\n",
      "0.8414634146341463\n",
      "0.8048780487804879\n",
      "0.7073170731707317\n",
      "0.8170731707317073\n",
      "0.7682926829268293\n",
      "0.7560975609756098\n",
      "0.8780487804878049\n",
      "0.8048780487804879\n",
      "0.8292682926829268\n",
      "0.8048780487804879\n",
      "0.8170731707317073\n",
      "0.7560975609756098\n",
      "0.8292682926829268\n",
      "0.7926829268292683\n",
      "0.7804878048780488\n",
      "0.8170731707317073\n",
      "0.9146341463414634\n",
      "0.8048780487804879\n",
      "0.6951219512195121\n",
      "0.8536585365853658\n",
      "0.8658536585365854\n",
      "0.8780487804878049\n",
      "0.8414634146341463\n",
      "0.7682926829268293\n",
      "0.8902439024390244\n",
      "0.8658536585365854\n",
      "0.8780487804878049\n",
      "0.7738095238095238\n",
      "0.7380952380952381\n",
      "0.7857142857142857\n",
      "0.7380952380952381\n",
      "0.7738095238095238\n",
      "0.7976190476190477\n",
      "0.8095238095238095\n",
      "0.7857142857142857\n",
      "0.8690476190476191\n",
      "0.7976190476190477\n",
      "0.7976190476190477\n",
      "0.8452380952380952\n",
      "0.7857142857142857\n",
      "0.7380952380952381\n",
      "0.75\n",
      "0.6904761904761905\n",
      "0.7976190476190477\n",
      "0.7142857142857143\n",
      "0.8690476190476191\n",
      "0.6904761904761905\n",
      "0.7976190476190477\n",
      "0.8809523809523809\n",
      "0.8333333333333334\n",
      "0.8571428571428571\n",
      "0.8690476190476191\n",
      "0.7380952380952381\n",
      "0.7857142857142857\n",
      "0.8809523809523809\n",
      "0.75\n",
      "0.7619047619047619\n",
      "0.8214285714285714\n",
      "0.8214285714285714\n",
      "0.8214285714285714\n",
      "0.7976190476190477\n",
      "0.7857142857142857\n",
      "0.7976190476190477\n",
      "0.8452380952380952\n",
      "0.7738095238095238\n",
      "0.7976190476190477\n",
      "0.6904761904761905\n",
      "0.8690476190476191\n",
      "0.7380952380952381\n",
      "0.7857142857142857\n",
      "0.8690476190476191\n",
      "0.8095238095238095\n",
      "0.8690476190476191\n",
      "0.7976190476190477\n",
      "0.75\n",
      "0.7738095238095238\n",
      "0.7261904761904762\n",
      "0.8452380952380952\n",
      "0.7857142857142857\n",
      "0.8333333333333334\n",
      "0.7738095238095238\n",
      "0.7857142857142857\n",
      "0.7738095238095238\n",
      "0.8690476190476191\n",
      "0.8928571428571429\n",
      "0.8690476190476191\n",
      "0.8214285714285714\n",
      "0.6904761904761905\n",
      "0.7261904761904762\n",
      "0.7976190476190477\n",
      "0.7857142857142857\n",
      "0.8214285714285714\n",
      "0.8095238095238095\n",
      "0.7857142857142857\n",
      "0.7857142857142857\n",
      "0.7619047619047619\n",
      "0.7857142857142857\n",
      "0.7976190476190477\n",
      "0.8095238095238095\n",
      "0.8095238095238095\n",
      "0.75\n",
      "0.8095238095238095\n",
      "0.7738095238095238\n",
      "0.7619047619047619\n",
      "0.6904761904761905\n",
      "0.8095238095238095\n",
      "0.7857142857142857\n",
      "0.8333333333333334\n",
      "0.7976190476190477\n",
      "0.75\n",
      "0.7380952380952381\n",
      "0.8333333333333334\n",
      "0.7261904761904762\n",
      "0.8333333333333334\n",
      "0.8333333333333334\n",
      "0.75\n",
      "0.8333333333333334\n",
      "0.8571428571428571\n",
      "0.8095238095238095\n",
      "0.8690476190476191\n",
      "0.7261904761904762\n",
      "0.8095238095238095\n",
      "0.7976190476190477\n",
      "0.75\n",
      "0.7619047619047619\n",
      "0.7619047619047619\n",
      "0.8571428571428571\n",
      "0.8214285714285714\n",
      "0.7976190476190477\n",
      "0.7976190476190477\n",
      "0.8452380952380952\n",
      "0.6428571428571429\n",
      "0.6666666666666666\n",
      "0.7380952380952381\n",
      "0.8571428571428571\n",
      "0.8214285714285714\n",
      "0.8333333333333334\n",
      "0.8333333333333334\n",
      "0.8214285714285714\n",
      "0.8452380952380952\n",
      "0.7619047619047619\n",
      "0.7738095238095238\n",
      "0.8214285714285714\n",
      "0.7261904761904762\n",
      "0.7857142857142857\n",
      "0.7976190476190477\n",
      "0.7857142857142857\n",
      "0.7976190476190477\n",
      "0.75\n",
      "0.8333333333333334\n",
      "0.7738095238095238\n",
      "0.8214285714285714\n",
      "0.8095238095238095\n",
      "0.6904761904761905\n",
      "0.7976190476190477\n",
      "0.7804878048780488\n",
      "0.8658536585365854\n",
      "0.7560975609756098\n",
      "0.7682926829268293\n",
      "0.8170731707317073\n",
      "0.6951219512195121\n",
      "0.7926829268292683\n",
      "0.8658536585365854\n",
      "0.8292682926829268\n",
      "0.8292682926829268\n",
      "0.7804878048780488\n",
      "0.7439024390243902\n",
      "0.8170731707317073\n",
      "0.7682926829268293\n",
      "0.8048780487804879\n",
      "0.7804878048780488\n",
      "0.8658536585365854\n",
      "0.7682926829268293\n",
      "0.7439024390243902\n",
      "0.7804878048780488\n",
      "0.7804878048780488\n",
      "0.7560975609756098\n",
      "0.7073170731707317\n",
      "0.8414634146341463\n",
      "0.7926829268292683\n",
      "0.7682926829268293\n",
      "0.8170731707317073\n",
      "0.8292682926829268\n",
      "0.7926829268292683\n",
      "0.8170731707317073\n",
      "0.8414634146341463\n",
      "0.9024390243902439\n",
      "0.7926829268292683\n",
      "0.7317073170731707\n",
      "0.8414634146341463\n",
      "0.8780487804878049\n",
      "0.7195121951219512\n",
      "0.7317073170731707\n",
      "0.8048780487804879\n",
      "0.7804878048780488\n",
      "0.7195121951219512\n",
      "0.7439024390243902\n",
      "0.8048780487804879\n",
      "0.7195121951219512\n",
      "0.8414634146341463\n",
      "0.8292682926829268\n",
      "0.6829268292682927\n",
      "0.8536585365853658\n",
      "0.7439024390243902\n",
      "0.7073170731707317\n",
      "0.8170731707317073\n",
      "0.8780487804878049\n",
      "0.8536585365853658\n",
      "0.9024390243902439\n",
      "0.8170731707317073\n",
      "0.7804878048780488\n",
      "0.7804878048780488\n",
      "0.7682926829268293\n",
      "0.8658536585365854\n",
      "0.8536585365853658\n",
      "0.8902439024390244\n",
      "0.8414634146341463\n",
      "0.6585365853658537\n",
      "0.8292682926829268\n",
      "0.7317073170731707\n",
      "0.8170731707317073\n",
      "0.8170731707317073\n",
      "0.7682926829268293\n",
      "0.6097560975609756\n",
      "0.8048780487804879\n",
      "0.7560975609756098\n",
      "0.8780487804878049\n",
      "0.7926829268292683\n",
      "0.7926829268292683\n",
      "0.6707317073170732\n",
      "0.8170731707317073\n",
      "0.7560975609756098\n",
      "0.7195121951219512\n",
      "0.8658536585365854\n",
      "0.8048780487804879\n",
      "0.8414634146341463\n",
      "0.7560975609756098\n",
      "0.7804878048780488\n",
      "0.7317073170731707\n",
      "0.8414634146341463\n",
      "0.7804878048780488\n",
      "0.8048780487804879\n",
      "0.8170731707317073\n",
      "0.7560975609756098\n",
      "0.9024390243902439\n",
      "0.9024390243902439\n",
      "0.8170731707317073\n",
      "0.7439024390243902\n",
      "0.7682926829268293\n",
      "0.7195121951219512\n",
      "0.8170731707317073\n",
      "0.7073170731707317\n",
      "0.9146341463414634\n",
      "0.8780487804878049\n",
      "0.7804878048780488\n",
      "0.8292682926829268\n",
      "0.6829268292682927\n",
      "0.7317073170731707\n",
      "0.7804878048780488\n",
      "0.7317073170731707\n",
      "0.7317073170731707\n",
      "0.8536585365853658\n",
      "0.8780487804878049\n",
      "0.7926829268292683\n",
      "0.8414634146341463\n",
      "0.8414634146341463\n",
      "0.7804878048780488\n",
      "0.7926829268292683\n",
      "0.7804878048780488\n",
      "0.7439024390243902\n",
      "0.8292682926829268\n",
      "0.7073170731707317\n",
      "0.6707317073170732\n",
      "0.7073170731707317\n",
      "0.8536585365853658\n",
      "0.8170731707317073\n",
      "0.7439024390243902\n",
      "0.7926829268292683\n",
      "0.7439024390243902\n",
      "0.8048780487804879\n",
      "0.7682926829268293\n",
      "0.8292682926829268\n",
      "0.7560975609756098\n",
      "0.7564102564102564\n",
      "0.8461538461538461\n",
      "0.8205128205128205\n",
      "0.782051282051282\n",
      "0.7564102564102564\n",
      "0.7435897435897436\n",
      "0.8589743589743589\n",
      "0.7307692307692307\n",
      "0.6923076923076923\n",
      "0.717948717948718\n",
      "0.7564102564102564\n",
      "0.8846153846153846\n",
      "0.7692307692307693\n",
      "0.7692307692307693\n",
      "0.8205128205128205\n",
      "0.717948717948718\n",
      "0.782051282051282\n",
      "0.7564102564102564\n",
      "0.717948717948718\n",
      "0.7051282051282052\n",
      "0.7564102564102564\n",
      "0.7564102564102564\n",
      "0.7435897435897436\n",
      "0.8333333333333334\n",
      "0.8205128205128205\n",
      "0.7051282051282052\n",
      "0.7692307692307693\n",
      "0.8717948717948718\n",
      "0.7564102564102564\n",
      "0.7948717948717948\n",
      "0.7051282051282052\n",
      "0.7564102564102564\n",
      "0.7692307692307693\n",
      "0.782051282051282\n",
      "0.7435897435897436\n",
      "0.8076923076923077\n",
      "0.7692307692307693\n",
      "0.7948717948717948\n",
      "0.7435897435897436\n",
      "0.7948717948717948\n",
      "0.7564102564102564\n",
      "0.6794871794871795\n",
      "0.7435897435897436\n",
      "0.8717948717948718\n",
      "0.7564102564102564\n",
      "0.8333333333333334\n",
      "0.782051282051282\n",
      "0.8846153846153846\n",
      "0.6923076923076923\n",
      "0.8974358974358975\n",
      "0.782051282051282\n",
      "0.7948717948717948\n",
      "0.7564102564102564\n",
      "0.7435897435897436\n",
      "0.8205128205128205\n",
      "0.8461538461538461\n",
      "0.6666666666666666\n",
      "0.8205128205128205\n",
      "0.8333333333333334\n",
      "0.782051282051282\n",
      "0.782051282051282\n",
      "0.7948717948717948\n",
      "0.8717948717948718\n",
      "0.8974358974358975\n",
      "0.8205128205128205\n",
      "0.8589743589743589\n",
      "0.8589743589743589\n",
      "0.782051282051282\n",
      "0.7948717948717948\n",
      "0.8461538461538461\n",
      "0.8333333333333334\n",
      "0.7692307692307693\n",
      "0.8076923076923077\n",
      "0.7564102564102564\n",
      "0.8461538461538461\n",
      "0.782051282051282\n",
      "0.7307692307692307\n",
      "0.7435897435897436\n",
      "0.8076923076923077\n",
      "0.7948717948717948\n",
      "0.7435897435897436\n",
      "0.7948717948717948\n",
      "0.7948717948717948\n",
      "0.8076923076923077\n",
      "0.6794871794871795\n",
      "0.8589743589743589\n",
      "0.7948717948717948\n",
      "0.7948717948717948\n",
      "0.9102564102564102\n",
      "0.7307692307692307\n",
      "0.8076923076923077\n",
      "0.6666666666666666\n",
      "0.7564102564102564\n",
      "0.7692307692307693\n",
      "0.8461538461538461\n",
      "0.7948717948717948\n",
      "0.8333333333333334\n",
      "0.7435897435897436\n",
      "0.717948717948718\n",
      "0.8461538461538461\n",
      "0.8461538461538461\n",
      "0.782051282051282\n",
      "0.7692307692307693\n",
      "0.8333333333333334\n",
      "0.6794871794871795\n",
      "0.8205128205128205\n",
      "0.7564102564102564\n",
      "0.782051282051282\n",
      "0.782051282051282\n",
      "0.717948717948718\n",
      "0.717948717948718\n",
      "0.7564102564102564\n",
      "0.7948717948717948\n",
      "0.7564102564102564\n",
      "0.7435897435897436\n",
      "0.8076923076923077\n",
      "0.8333333333333334\n",
      "0.7051282051282052\n",
      "0.7948717948717948\n",
      "0.717948717948718\n",
      "0.7948717948717948\n",
      "0.7435897435897436\n",
      "0.8333333333333334\n",
      "0.782051282051282\n",
      "0.717948717948718\n",
      "0.782051282051282\n",
      "0.6410256410256411\n",
      "0.7435897435897436\n",
      "0.7195121951219512\n",
      "0.8292682926829268\n",
      "0.8536585365853658\n",
      "0.8414634146341463\n",
      "0.8292682926829268\n",
      "0.7439024390243902\n",
      "0.7804878048780488\n",
      "0.7926829268292683\n",
      "0.7073170731707317\n",
      "0.7804878048780488\n",
      "0.8536585365853658\n",
      "0.8536585365853658\n",
      "0.6951219512195121\n",
      "0.7926829268292683\n",
      "0.8048780487804879\n",
      "0.8048780487804879\n",
      "0.7317073170731707\n",
      "0.7682926829268293\n",
      "0.7439024390243902\n",
      "0.8170731707317073\n",
      "0.7682926829268293\n",
      "0.8780487804878049\n",
      "0.7804878048780488\n",
      "0.8536585365853658\n",
      "0.8536585365853658\n",
      "0.7195121951219512\n",
      "0.7926829268292683\n",
      "0.8658536585365854\n",
      "0.7682926829268293\n",
      "0.8048780487804879\n",
      "0.8414634146341463\n",
      "0.7804878048780488\n",
      "0.7439024390243902\n",
      "0.7560975609756098\n",
      "0.8048780487804879\n",
      "0.7560975609756098\n",
      "0.8536585365853658\n",
      "0.7439024390243902\n",
      "0.7317073170731707\n",
      "0.8658536585365854\n",
      "0.7439024390243902\n",
      "0.7195121951219512\n",
      "0.7439024390243902\n",
      "0.8292682926829268\n",
      "0.7317073170731707\n",
      "0.7804878048780488\n",
      "0.6707317073170732\n",
      "0.8414634146341463\n",
      "0.7195121951219512\n",
      "0.8780487804878049\n",
      "0.6829268292682927\n",
      "0.8048780487804879\n",
      "0.8414634146341463\n",
      "0.8536585365853658\n",
      "0.7682926829268293\n",
      "0.7439024390243902\n",
      "0.7439024390243902\n",
      "0.7926829268292683\n",
      "0.7926829268292683\n",
      "0.7682926829268293\n",
      "0.7439024390243902\n",
      "0.7560975609756098\n",
      "0.7804878048780488\n",
      "0.7926829268292683\n",
      "0.8048780487804879\n",
      "0.8170731707317073\n",
      "0.7804878048780488\n",
      "0.8902439024390244\n",
      "0.7926829268292683\n",
      "0.8292682926829268\n",
      "0.8414634146341463\n",
      "0.7073170731707317\n",
      "0.8048780487804879\n",
      "0.8048780487804879\n",
      "0.7439024390243902\n",
      "0.8536585365853658\n",
      "0.8658536585365854\n",
      "0.8414634146341463\n",
      "0.7439024390243902\n",
      "0.8414634146341463\n",
      "0.7439024390243902\n",
      "0.7682926829268293\n",
      "0.8292682926829268\n",
      "0.7804878048780488\n",
      "0.7317073170731707\n",
      "0.7439024390243902\n",
      "0.8292682926829268\n",
      "0.8780487804878049\n",
      "0.7804878048780488\n",
      "0.7439024390243902\n",
      "0.8414634146341463\n",
      "0.7560975609756098\n",
      "0.7804878048780488\n",
      "0.8170731707317073\n",
      "0.8170731707317073\n",
      "0.7804878048780488\n",
      "0.8048780487804879\n",
      "0.7804878048780488\n",
      "0.8902439024390244\n",
      "0.7804878048780488\n",
      "0.7317073170731707\n",
      "0.7195121951219512\n",
      "0.8048780487804879\n",
      "0.8170731707317073\n",
      "0.7317073170731707\n",
      "0.8536585365853658\n",
      "0.7439024390243902\n",
      "0.7804878048780488\n",
      "0.7560975609756098\n",
      "0.7926829268292683\n",
      "0.7317073170731707\n"
     ]
    },
    {
     "name": "stdout",
     "output_type": "stream",
     "text": [
      "0.7682926829268293\n",
      "0.8048780487804879\n",
      "0.7926829268292683\n",
      "0.8414634146341463\n",
      "0.8658536585365854\n",
      "0.8292682926829268\n",
      "0.8292682926829268\n",
      "0.8414634146341463\n",
      "0.8414634146341463\n",
      "0.8414634146341463\n",
      "0.7804878048780488\n",
      "0.7682926829268293\n",
      "0.7682926829268293\n",
      "0.8048780487804879\n",
      "0.8658536585365854\n",
      "0.7682926829268293\n",
      "0.8658536585365854\n",
      "0.7073170731707317\n",
      "0.8536585365853658\n",
      "0.7073170731707317\n",
      "0.7682926829268293\n",
      "0.7195121951219512\n",
      "0.7560975609756098\n",
      "0.8292682926829268\n",
      "0.8414634146341463\n",
      "0.7804878048780488\n",
      "0.7317073170731707\n",
      "0.8048780487804879\n",
      "0.6951219512195121\n",
      "0.7560975609756098\n",
      "0.8170731707317073\n",
      "0.8414634146341463\n",
      "0.7317073170731707\n",
      "0.7804878048780488\n",
      "0.7926829268292683\n",
      "0.7804878048780488\n",
      "0.7195121951219512\n",
      "0.8048780487804879\n",
      "0.7804878048780488\n",
      "0.8902439024390244\n",
      "0.8536585365853658\n",
      "0.7926829268292683\n",
      "0.7560975609756098\n",
      "0.7560975609756098\n",
      "0.7682926829268293\n",
      "0.7560975609756098\n",
      "0.7926829268292683\n",
      "0.7926829268292683\n",
      "0.8414634146341463\n",
      "0.8048780487804879\n",
      "0.8048780487804879\n",
      "0.7439024390243902\n",
      "0.9024390243902439\n",
      "0.8414634146341463\n",
      "0.7073170731707317\n",
      "0.7560975609756098\n",
      "0.7804878048780488\n",
      "0.7195121951219512\n",
      "0.6951219512195121\n",
      "0.7560975609756098\n",
      "0.7926829268292683\n",
      "0.7317073170731707\n",
      "0.6829268292682927\n",
      "0.7926829268292683\n",
      "0.7560975609756098\n",
      "0.8292682926829268\n",
      "0.7439024390243902\n",
      "0.9512195121951219\n",
      "0.7682926829268293\n",
      "0.8048780487804879\n",
      "0.8170731707317073\n",
      "0.7804878048780488\n",
      "0.8414634146341463\n",
      "0.7195121951219512\n",
      "0.8292682926829268\n",
      "0.7682926829268293\n",
      "0.9024390243902439\n",
      "0.6219512195121951\n",
      "0.7682926829268293\n",
      "0.8292682926829268\n",
      "0.7317073170731707\n",
      "0.8048780487804879\n",
      "0.8536585365853658\n",
      "0.7804878048780488\n",
      "0.6951219512195121\n",
      "0.8536585365853658\n",
      "0.9024390243902439\n",
      "0.8536585365853658\n",
      "0.7439024390243902\n",
      "0.6585365853658537\n",
      "0.7560975609756098\n",
      "0.8780487804878049\n",
      "0.8536585365853658\n",
      "0.7073170731707317\n",
      "0.8780487804878049\n",
      "0.7317073170731707\n",
      "0.8536585365853658\n",
      "0.8048780487804879\n",
      "0.7926829268292683\n",
      "0.8170731707317073\n",
      "0.6951219512195121\n",
      "0.7926829268292683\n",
      "0.7195121951219512\n",
      "0.7926829268292683\n",
      "0.8292682926829268\n",
      "0.7926829268292683\n",
      "0.6829268292682927\n",
      "0.8048780487804879\n",
      "0.7926829268292683\n",
      "0.8536585365853658\n",
      "0.8658536585365854\n",
      "0.8292682926829268\n",
      "0.8780487804878049\n",
      "0.7682926829268293\n",
      "0.7195121951219512\n",
      "0.9146341463414634\n",
      "0.7804878048780488\n",
      "0.7682926829268293\n",
      "0.8414634146341463\n",
      "0.7317073170731707\n",
      "0.7804878048780488\n",
      "0.8048780487804879\n",
      "0.8536585365853658\n",
      "0.7926829268292683\n",
      "0.7926829268292683\n",
      "0.8658536585365854\n",
      "0.7195121951219512\n",
      "0.7926829268292683\n",
      "0.7560975609756098\n",
      "0.8048780487804879\n",
      "0.7439024390243902\n",
      "0.7804878048780488\n",
      "0.7317073170731707\n",
      "0.8536585365853658\n",
      "0.8048780487804879\n",
      "0.7560975609756098\n",
      "0.8414634146341463\n",
      "0.7560975609756098\n",
      "0.6097560975609756\n",
      "0.7682926829268293\n",
      "0.6951219512195121\n",
      "0.7804878048780488\n",
      "0.7804878048780488\n",
      "0.7439024390243902\n",
      "0.7926829268292683\n",
      "0.7341772151898734\n",
      "0.8987341772151899\n",
      "0.759493670886076\n",
      "0.8607594936708861\n",
      "0.8481012658227848\n",
      "0.8607594936708861\n",
      "0.8227848101265823\n",
      "0.810126582278481\n",
      "0.7215189873417721\n",
      "0.7341772151898734\n",
      "0.7341772151898734\n",
      "0.7341772151898734\n",
      "0.7341772151898734\n",
      "0.7721518987341772\n",
      "0.8227848101265823\n",
      "0.7341772151898734\n",
      "0.7341772151898734\n",
      "0.7468354430379747\n",
      "0.7215189873417721\n",
      "0.8481012658227848\n",
      "0.810126582278481\n",
      "0.7974683544303798\n",
      "0.7848101265822784\n",
      "0.759493670886076\n",
      "0.759493670886076\n",
      "0.8227848101265823\n",
      "0.7974683544303798\n",
      "0.8607594936708861\n",
      "0.7974683544303798\n",
      "0.7468354430379747\n",
      "0.8607594936708861\n",
      "0.759493670886076\n",
      "0.8354430379746836\n",
      "0.7088607594936709\n",
      "0.7341772151898734\n",
      "0.759493670886076\n",
      "0.8227848101265823\n",
      "0.7468354430379747\n",
      "0.8481012658227848\n",
      "0.8354430379746836\n",
      "0.7341772151898734\n",
      "0.759493670886076\n",
      "0.7974683544303798\n",
      "0.7468354430379747\n",
      "0.8734177215189873\n",
      "0.8354430379746836\n",
      "0.7468354430379747\n",
      "0.7468354430379747\n",
      "0.7848101265822784\n",
      "0.8607594936708861\n",
      "0.7721518987341772\n",
      "0.8354430379746836\n",
      "0.7721518987341772\n",
      "0.6835443037974683\n",
      "0.7974683544303798\n",
      "0.8481012658227848\n",
      "0.7721518987341772\n",
      "0.7721518987341772\n",
      "0.8354430379746836\n",
      "0.810126582278481\n",
      "0.7468354430379747\n",
      "0.8734177215189873\n",
      "0.7848101265822784\n",
      "0.7341772151898734\n",
      "0.7848101265822784\n",
      "0.6835443037974683\n",
      "0.7721518987341772\n",
      "0.7088607594936709\n",
      "0.7974683544303798\n",
      "0.8734177215189873\n",
      "0.759493670886076\n",
      "0.8987341772151899\n",
      "0.7468354430379747\n",
      "0.7468354430379747\n",
      "0.6962025316455697\n",
      "0.7848101265822784\n",
      "0.8987341772151899\n",
      "0.7341772151898734\n",
      "0.810126582278481\n",
      "0.7848101265822784\n",
      "0.7721518987341772\n",
      "0.7721518987341772\n",
      "0.7848101265822784\n",
      "0.8354430379746836\n",
      "0.8227848101265823\n",
      "0.7215189873417721\n",
      "0.7721518987341772\n",
      "0.7341772151898734\n",
      "0.7341772151898734\n",
      "0.8607594936708861\n",
      "0.7468354430379747\n",
      "0.7215189873417721\n",
      "0.7468354430379747\n",
      "0.8734177215189873\n",
      "0.7848101265822784\n",
      "0.7721518987341772\n",
      "0.8227848101265823\n",
      "0.7468354430379747\n",
      "0.7341772151898734\n",
      "0.8227848101265823\n",
      "0.759493670886076\n",
      "0.6708860759493671\n",
      "0.7721518987341772\n",
      "0.6835443037974683\n",
      "0.7974683544303798\n",
      "0.7215189873417721\n",
      "0.8734177215189873\n",
      "0.810126582278481\n",
      "0.7215189873417721\n",
      "0.8481012658227848\n",
      "0.8227848101265823\n",
      "0.810126582278481\n",
      "0.8227848101265823\n",
      "0.7468354430379747\n",
      "0.7215189873417721\n",
      "0.7848101265822784\n",
      "0.7468354430379747\n",
      "0.7974683544303798\n",
      "0.8354430379746836\n",
      "0.8227848101265823\n",
      "0.7468354430379747\n",
      "0.7721518987341772\n",
      "0.8354430379746836\n",
      "0.7088607594936709\n",
      "0.8354430379746836\n",
      "0.810126582278481\n",
      "0.759493670886076\n",
      "0.759493670886076\n"
     ]
    }
   ],
   "source": [
    "for batch in tqdm(dataloader_test, total=len(dataloader_train)):\n",
    "    generate_sentence(model, batch)"
   ]
  },
  {
   "cell_type": "code",
   "execution_count": null,
   "id": "14153a30",
   "metadata": {},
   "outputs": [],
   "source": []
  }
 ],
 "metadata": {
  "kernelspec": {
   "display_name": "Python 3 (ipykernel)",
   "language": "python",
   "name": "python3"
  },
  "language_info": {
   "codemirror_mode": {
    "name": "ipython",
    "version": 3
   },
   "file_extension": ".py",
   "mimetype": "text/x-python",
   "name": "python",
   "nbconvert_exporter": "python",
   "pygments_lexer": "ipython3",
   "version": "3.9.13"
  }
 },
 "nbformat": 4,
 "nbformat_minor": 5
}
