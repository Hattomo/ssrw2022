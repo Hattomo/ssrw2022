{
 "cells": [
  {
   "cell_type": "code",
   "execution_count": 1,
   "id": "4c371e8a",
   "metadata": {},
   "outputs": [],
   "source": [
    "import torch\n",
    "import torch.nn as nn\n",
    "import numpy as np\n",
    "from torch.utils.data import Dataset, DataLoader\n",
    "import pickle\n",
    "import csv\n",
    "import matplotlib.pyplot as plt\n",
    "from torch.nn.utils.rnn import pad_sequence\n",
    "from sklearn.metrics import accuracy_score\n",
    "from language_model import PhonemeLangModel\n",
    "from phoneme_dataset import PhonemeDataset, collate_fn, dataset_spliter, MaskedPhonemeDataset\n",
    "\n",
    "from torchvision import transforms\n",
    "from trainer_phoneme import Trainer, MaskedTrainer\n",
    "import json"
   ]
  },
  {
   "cell_type": "code",
   "execution_count": 2,
   "id": "8d7a40fb",
   "metadata": {},
   "outputs": [],
   "source": [
    "BATCH_SIZE = 128\n",
    "EPOCHS = 20\n",
    "dict_path = 'data/label.pkl'\n",
    "labels_path = 'data/phoneme.csv'"
   ]
  },
  {
   "cell_type": "code",
   "execution_count": 3,
   "id": "a04a9b85",
   "metadata": {},
   "outputs": [],
   "source": [
    "with open(dict_path, 'rb') as f:\n",
    "    phone_dict = pickle.load(f)\n",
    "with open(labels_path, 'r') as f:\n",
    "    csv_reader = csv.reader(f)\n",
    "    datas = list(csv_reader)"
   ]
  },
  {
   "cell_type": "code",
   "execution_count": 4,
   "id": "95ec6587",
   "metadata": {},
   "outputs": [],
   "source": [
    "additional_file = './data/phoneme_data.txt'\n",
    "with open(additional_file, 'r') as f:\n",
    "    sentenses = f.readlines()"
   ]
  },
  {
   "cell_type": "code",
   "execution_count": 5,
   "id": "f0396ade",
   "metadata": {},
   "outputs": [],
   "source": [
    "dict_path = 'data/phoneme_dict.json'\n",
    "with open(dict_path, 'r') as f:\n",
    "    phone_dict = json.load(f)"
   ]
  },
  {
   "cell_type": "code",
   "execution_count": 6,
   "id": "4f97c5fc",
   "metadata": {},
   "outputs": [],
   "source": [
    "datas = [s.replace('\\n', '').split() for s in sentenses]"
   ]
  },
  {
   "cell_type": "code",
   "execution_count": 7,
   "id": "52471cdf",
   "metadata": {},
   "outputs": [
    {
     "name": "stdout",
     "output_type": "stream",
     "text": [
      "train: 730554 valid: 243518 test: 243518\n"
     ]
    }
   ],
   "source": [
    "datas_train, datas_valid, datas_test = dataset_spliter(datas)\n",
    "dataset_train = MaskedPhonemeDataset(phone_dict, datas_train)\n",
    "dataset_valid = MaskedPhonemeDataset(phone_dict, datas_valid)\n",
    "dataset_test  = MaskedPhonemeDataset(phone_dict, datas_test)"
   ]
  },
  {
   "cell_type": "code",
   "execution_count": 8,
   "id": "9d468ab2",
   "metadata": {},
   "outputs": [],
   "source": [
    "dataloader_train = DataLoader(dataset_train,\n",
    "                              shuffle=True,\n",
    "                              batch_size=BATCH_SIZE,\n",
    "                              collate_fn=collate_fn,\n",
    "                              drop_last=True)\n",
    "dataloader_valid = DataLoader(dataset_valid,\n",
    "                              batch_size=BATCH_SIZE,\n",
    "                              collate_fn=collate_fn,\n",
    "                              drop_last=True)\n",
    "dataloader_test  = DataLoader(dataset_test,\n",
    "                              batch_size=BATCH_SIZE,\n",
    "                              collate_fn=collate_fn,\n",
    "                              drop_last=True)"
   ]
  },
  {
   "cell_type": "code",
   "execution_count": 9,
   "id": "f4bf9a6d",
   "metadata": {},
   "outputs": [],
   "source": [
    "model = PhonemeLangModel().to('cuda:0')"
   ]
  },
  {
   "cell_type": "code",
   "execution_count": null,
   "id": "cbe42950",
   "metadata": {},
   "outputs": [
    {
     "data": {
      "application/vnd.jupyter.widget-view+json": {
       "model_id": "c2f554ba175841cf81d12349eb4073aa",
       "version_major": 2,
       "version_minor": 0
      },
      "text/plain": [
       "  0%|          | 0/20 [00:00<?, ?it/s]"
      ]
     },
     "metadata": {},
     "output_type": "display_data"
    },
    {
     "name": "stdout",
     "output_type": "stream",
     "text": [
      "train: 0\n"
     ]
    },
    {
     "data": {
      "application/vnd.jupyter.widget-view+json": {
       "model_id": "382a96cfdfed4b4c85e1da35e3666797",
       "version_major": 2,
       "version_minor": 0
      },
      "text/plain": [
       "  0%|          | 0/5707 [00:00<?, ?it/s]"
      ]
     },
     "metadata": {},
     "output_type": "display_data"
    }
   ],
   "source": [
    "criterion = nn.CrossEntropyLoss()\n",
    "optimizer = torch.optim.Adam(model.parameters(), lr=0.001)\n",
    "trainer = MaskedTrainer(model, dataloader_train, dataloader_valid, criterion, optimizer)\n",
    "trainer.train(EPOCHS, BATCH_SIZE)"
   ]
  },
  {
   "cell_type": "code",
   "execution_count": null,
   "id": "2979629e",
   "metadata": {},
   "outputs": [],
   "source": [
    "save_path = './lstm_lang_model.pth'\n",
    "torch.save(model.to('cpu').state_dict(), save_path)"
   ]
  },
  {
   "cell_type": "code",
   "execution_count": null,
   "id": "815adbf7",
   "metadata": {},
   "outputs": [],
   "source": [
    "import pandas as pd\n",
    "loss_dict = {'train_loss': trainer.train_loss_list,\n",
    "             'valid_loss': trainer.valid_loss_list,\n",
    "             'train_acc': trainer.train_acc_list,\n",
    "             'valid_acc': trainer.valid_acc_list}\n",
    "df = pd.DataFrame(loss_dict)\n",
    "df.to_csv('./lstm_lang_model_losses.csv')"
   ]
  },
  {
   "cell_type": "code",
   "execution_count": null,
   "id": "43c2f462",
   "metadata": {},
   "outputs": [],
   "source": [
    "df = pd.read_csv('./lstm_lang_model_losses.csv')\n",
    "%matplotlib inline\n",
    "import matplotlib.pyplot as plt\n",
    "import numpy as np\n",
    "fig, ax1 = plt.subplots()\n",
    "x = np.array([i for i in range(EPOCHS)])\n",
    "ax1.set_xlabel('epochs')\n",
    "ax1.plot(x, df['train_loss'], label='train_loss')\n",
    "ax1.plot(x, df['valid_loss'], label='valid_loss')\n",
    "ax1.legend()\n",
    "\n",
    "ax2 = ax1.twinx()\n",
    "ax2.plot(x, df['train_acc'], label='train_acc')\n",
    "ax2.plot(x, df['valid_acc'], label='valid_acc')\n",
    "ax2.legend()\n",
    "\n",
    "ax1.set_ylabel('loss')\n",
    "ax2.set_ylabel('acc')\n",
    "plt.savefig('./graph.png')\n",
    "plt.show()"
   ]
  },
  {
   "cell_type": "code",
   "execution_count": null,
   "id": "43338b19",
   "metadata": {},
   "outputs": [],
   "source": [
    "save_path = './lstm_lang_model.pth'\n",
    "model = PhonemeLangModel()\n",
    "model.load_state_dict(torch.load(save_path))"
   ]
  },
  {
   "cell_type": "code",
   "execution_count": null,
   "id": "50005d58",
   "metadata": {},
   "outputs": [],
   "source": []
  }
 ],
 "metadata": {
  "kernelspec": {
   "display_name": "Python 3 (ipykernel)",
   "language": "python",
   "name": "python3"
  },
  "language_info": {
   "codemirror_mode": {
    "name": "ipython",
    "version": 3
   },
   "file_extension": ".py",
   "mimetype": "text/x-python",
   "name": "python",
   "nbconvert_exporter": "python",
   "pygments_lexer": "ipython3",
   "version": "3.9.13"
  }
 },
 "nbformat": 4,
 "nbformat_minor": 5
}
